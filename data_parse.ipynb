{
 "cells": [
  {
   "cell_type": "code",
   "execution_count": 3,
   "metadata": {
    "scrolled": true
   },
   "outputs": [
    {
     "output_type": "display_data",
     "data": {
      "text/plain": "         date country  popdata2003  new_cases  cumulative_cases  new_deaths  \\\n0   3/17/2003  Canada     31641630          8                 8           2   \n1   3/18/2003  Canada     31641630          0                 8           0   \n2   3/19/2003  Canada     31641630          0                 8           0   \n3   3/20/2003  Canada     31641630          1                 9           0   \n4   3/21/2003  Canada     31641630          0                 9           0   \n..        ...     ...          ...        ...               ...         ...   \n91   7/7/2003  Canada     31641630          0               251           0   \n92   7/8/2003  Canada     31641630          0               250           0   \n93   7/9/2003  Canada     31641630          0               249           0   \n94  7/10/2003  Canada     31641630          1               250           0   \n95  7/11/2003  Canada     31641630          0               250           0   \n\n    cumulative_deaths  \n0                   2  \n1                   2  \n2                   2  \n3                   2  \n4                   2  \n..                ...  \n91                 38  \n92                 38  \n93                 38  \n94                 38  \n95                 38  \n\n[96 rows x 7 columns]",
      "text/html": "<div>\n<style scoped>\n    .dataframe tbody tr th:only-of-type {\n        vertical-align: middle;\n    }\n\n    .dataframe tbody tr th {\n        vertical-align: top;\n    }\n\n    .dataframe thead th {\n        text-align: right;\n    }\n</style>\n<table border=\"1\" class=\"dataframe\">\n  <thead>\n    <tr style=\"text-align: right;\">\n      <th></th>\n      <th>date</th>\n      <th>country</th>\n      <th>popdata2003</th>\n      <th>new_cases</th>\n      <th>cumulative_cases</th>\n      <th>new_deaths</th>\n      <th>cumulative_deaths</th>\n    </tr>\n  </thead>\n  <tbody>\n    <tr>\n      <th>0</th>\n      <td>3/17/2003</td>\n      <td>Canada</td>\n      <td>31641630</td>\n      <td>8</td>\n      <td>8</td>\n      <td>2</td>\n      <td>2</td>\n    </tr>\n    <tr>\n      <th>1</th>\n      <td>3/18/2003</td>\n      <td>Canada</td>\n      <td>31641630</td>\n      <td>0</td>\n      <td>8</td>\n      <td>0</td>\n      <td>2</td>\n    </tr>\n    <tr>\n      <th>2</th>\n      <td>3/19/2003</td>\n      <td>Canada</td>\n      <td>31641630</td>\n      <td>0</td>\n      <td>8</td>\n      <td>0</td>\n      <td>2</td>\n    </tr>\n    <tr>\n      <th>3</th>\n      <td>3/20/2003</td>\n      <td>Canada</td>\n      <td>31641630</td>\n      <td>1</td>\n      <td>9</td>\n      <td>0</td>\n      <td>2</td>\n    </tr>\n    <tr>\n      <th>4</th>\n      <td>3/21/2003</td>\n      <td>Canada</td>\n      <td>31641630</td>\n      <td>0</td>\n      <td>9</td>\n      <td>0</td>\n      <td>2</td>\n    </tr>\n    <tr>\n      <th>...</th>\n      <td>...</td>\n      <td>...</td>\n      <td>...</td>\n      <td>...</td>\n      <td>...</td>\n      <td>...</td>\n      <td>...</td>\n    </tr>\n    <tr>\n      <th>91</th>\n      <td>7/7/2003</td>\n      <td>Canada</td>\n      <td>31641630</td>\n      <td>0</td>\n      <td>251</td>\n      <td>0</td>\n      <td>38</td>\n    </tr>\n    <tr>\n      <th>92</th>\n      <td>7/8/2003</td>\n      <td>Canada</td>\n      <td>31641630</td>\n      <td>0</td>\n      <td>250</td>\n      <td>0</td>\n      <td>38</td>\n    </tr>\n    <tr>\n      <th>93</th>\n      <td>7/9/2003</td>\n      <td>Canada</td>\n      <td>31641630</td>\n      <td>0</td>\n      <td>249</td>\n      <td>0</td>\n      <td>38</td>\n    </tr>\n    <tr>\n      <th>94</th>\n      <td>7/10/2003</td>\n      <td>Canada</td>\n      <td>31641630</td>\n      <td>1</td>\n      <td>250</td>\n      <td>0</td>\n      <td>38</td>\n    </tr>\n    <tr>\n      <th>95</th>\n      <td>7/11/2003</td>\n      <td>Canada</td>\n      <td>31641630</td>\n      <td>0</td>\n      <td>250</td>\n      <td>0</td>\n      <td>38</td>\n    </tr>\n  </tbody>\n</table>\n<p>96 rows × 7 columns</p>\n</div>"
     },
     "metadata": {}
    },
    {
     "output_type": "display_data",
     "data": {
      "text/plain": "           date country  popdata2018  new_cases  cumulative_cases  new_deaths  \\\n0    12/31/2019  Canada     37058856          0                 0           0   \n1      1/1/2020  Canada     37058856          0                 0           0   \n2      1/2/2020  Canada     37058856          0                 0           0   \n3      1/3/2020  Canada     37058856          0                 0           0   \n4      1/4/2020  Canada     37058856          0                 0           0   \n..          ...     ...          ...        ...               ...         ...   \n128    5/7/2020  Canada     37058856       1450             63496         189   \n129    5/8/2020  Canada     37058856       1426             64922         176   \n130    5/9/2020  Canada     37058856       1512             66434         161   \n131   5/10/2020  Canada     37058856       1268             67702         124   \n132   5/11/2020  Canada     37058856       1146             68848         178   \n\n     cumulative_deaths  \n0                    0  \n1                    0  \n2                    0  \n3                    0  \n4                    0  \n..                 ...  \n128               4232  \n129               4408  \n130               4569  \n131               4693  \n132               4871  \n\n[133 rows x 7 columns]",
      "text/html": "<div>\n<style scoped>\n    .dataframe tbody tr th:only-of-type {\n        vertical-align: middle;\n    }\n\n    .dataframe tbody tr th {\n        vertical-align: top;\n    }\n\n    .dataframe thead th {\n        text-align: right;\n    }\n</style>\n<table border=\"1\" class=\"dataframe\">\n  <thead>\n    <tr style=\"text-align: right;\">\n      <th></th>\n      <th>date</th>\n      <th>country</th>\n      <th>popdata2018</th>\n      <th>new_cases</th>\n      <th>cumulative_cases</th>\n      <th>new_deaths</th>\n      <th>cumulative_deaths</th>\n    </tr>\n  </thead>\n  <tbody>\n    <tr>\n      <th>0</th>\n      <td>12/31/2019</td>\n      <td>Canada</td>\n      <td>37058856</td>\n      <td>0</td>\n      <td>0</td>\n      <td>0</td>\n      <td>0</td>\n    </tr>\n    <tr>\n      <th>1</th>\n      <td>1/1/2020</td>\n      <td>Canada</td>\n      <td>37058856</td>\n      <td>0</td>\n      <td>0</td>\n      <td>0</td>\n      <td>0</td>\n    </tr>\n    <tr>\n      <th>2</th>\n      <td>1/2/2020</td>\n      <td>Canada</td>\n      <td>37058856</td>\n      <td>0</td>\n      <td>0</td>\n      <td>0</td>\n      <td>0</td>\n    </tr>\n    <tr>\n      <th>3</th>\n      <td>1/3/2020</td>\n      <td>Canada</td>\n      <td>37058856</td>\n      <td>0</td>\n      <td>0</td>\n      <td>0</td>\n      <td>0</td>\n    </tr>\n    <tr>\n      <th>4</th>\n      <td>1/4/2020</td>\n      <td>Canada</td>\n      <td>37058856</td>\n      <td>0</td>\n      <td>0</td>\n      <td>0</td>\n      <td>0</td>\n    </tr>\n    <tr>\n      <th>...</th>\n      <td>...</td>\n      <td>...</td>\n      <td>...</td>\n      <td>...</td>\n      <td>...</td>\n      <td>...</td>\n      <td>...</td>\n    </tr>\n    <tr>\n      <th>128</th>\n      <td>5/7/2020</td>\n      <td>Canada</td>\n      <td>37058856</td>\n      <td>1450</td>\n      <td>63496</td>\n      <td>189</td>\n      <td>4232</td>\n    </tr>\n    <tr>\n      <th>129</th>\n      <td>5/8/2020</td>\n      <td>Canada</td>\n      <td>37058856</td>\n      <td>1426</td>\n      <td>64922</td>\n      <td>176</td>\n      <td>4408</td>\n    </tr>\n    <tr>\n      <th>130</th>\n      <td>5/9/2020</td>\n      <td>Canada</td>\n      <td>37058856</td>\n      <td>1512</td>\n      <td>66434</td>\n      <td>161</td>\n      <td>4569</td>\n    </tr>\n    <tr>\n      <th>131</th>\n      <td>5/10/2020</td>\n      <td>Canada</td>\n      <td>37058856</td>\n      <td>1268</td>\n      <td>67702</td>\n      <td>124</td>\n      <td>4693</td>\n    </tr>\n    <tr>\n      <th>132</th>\n      <td>5/11/2020</td>\n      <td>Canada</td>\n      <td>37058856</td>\n      <td>1146</td>\n      <td>68848</td>\n      <td>178</td>\n      <td>4871</td>\n    </tr>\n  </tbody>\n</table>\n<p>133 rows × 7 columns</p>\n</div>"
     },
     "metadata": {}
    }
   ],
   "source": [
    "import pandas as pd\n",
    "from sklearn.model_selection import train_test_split\n",
    "\n",
    "# Import SARS and COVID csv files\n",
    "# Only import 'date' and 'cumulative_cases' columns\n",
    "canada_sars = pd.read_csv('./data/sars_canada.csv', header = 0, index_col = 0, usecols=['date', 'cumulative_cases'])\n",
    "canada_covid = pd.read_csv('./data/covid_canada.csv', header = 0, index_col = 0, usecols=['date', 'cumulative_cases'])\n",
    "\n",
    "display(canada_sars)\n",
    "display(canada_covid)\n",
    "\n",
    "# Convert into data\n",
    "data_train = canada_sars.values\n",
    "data_test = canada_covid.values"
   ]
  },
  {
   "cell_type": "code",
   "execution_count": 4,
   "metadata": {
    "scrolled": true
   },
   "outputs": [],
   "source": [
    "# We will be doing univariate analysis with cumulative_cases as the feature\n",
    "# if have extra time we can also do on cumulative deaths\n",
    "\n",
    "# Training data is sars data\n",
    "# Testing data is covid data\n",
    "\n",
    "\n"
   ]
  },
  {
   "cell_type": "code",
   "execution_count": null,
   "metadata": {},
   "outputs": [],
   "source": []
  }
 ],
 "metadata": {
  "kernelspec": {
   "display_name": "Python 3.6.7 64-bit",
   "language": "python",
   "name": "python36764bit7169f5127d904057b5023f7ae9a2b18c"
  },
  "language_info": {
   "codemirror_mode": {
    "name": "ipython",
    "version": 3
   },
   "file_extension": ".py",
   "mimetype": "text/x-python",
   "name": "python",
   "nbconvert_exporter": "python",
   "pygments_lexer": "ipython3",
   "version": "3.6.7-final"
  }
 },
 "nbformat": 4,
 "nbformat_minor": 4
}